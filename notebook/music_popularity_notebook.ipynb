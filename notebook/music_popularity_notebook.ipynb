{
 "cells": [
  {
   "cell_type": "code",
   "execution_count": 34,
   "metadata": {},
   "outputs": [
    {
     "name": "stderr",
     "output_type": "stream",
     "text": [
      "C:\\Users\\HP\\AppData\\Local\\Temp\\ipykernel_16908\\3104106396.py:30: FutureWarning: A value is trying to be set on a copy of a DataFrame or Series through chained assignment using an inplace method.\n",
      "The behavior will change in pandas 3.0. This inplace method will never work because the intermediate object on which we are setting values always behaves as a copy.\n",
      "\n",
      "For example, when doing 'df[col].method(value, inplace=True)', try using 'df.method({col: value}, inplace=True)' or df[col] = df[col].method(value) instead, to perform the operation inplace on the original object.\n",
      "\n",
      "\n",
      "  data['Artist'].fillna('Unknown', inplace=True)\n"
     ]
    },
    {
     "name": "stdout",
     "output_type": "stream",
     "text": [
      "Model Accuracy: 0.7630434782608696\n",
      "\n",
      "Classification Report:\n",
      "               precision    recall  f1-score   support\n",
      "\n",
      "           0       0.74      0.80      0.77       448\n",
      "           1       0.79      0.73      0.76       472\n",
      "\n",
      "    accuracy                           0.76       920\n",
      "   macro avg       0.76      0.76      0.76       920\n",
      "weighted avg       0.77      0.76      0.76       920\n",
      "\n",
      "\n",
      "Confusion Matrix:\n",
      " [[357  91]\n",
      " [127 345]]\n",
      "\n",
      "Model training complete and saved as 'music_popularity_model.pkl'.\n"
     ]
    }
   ],
   "source": [
    "# Import necessary libraries\n",
    "import pandas as pd\n",
    "from sklearn.model_selection import train_test_split\n",
    "from sklearn.ensemble import RandomForestClassifier\n",
    "from sklearn.metrics import accuracy_score, classification_report, confusion_matrix\n",
    "import pickle\n",
    "\n",
    "# My music csv dataset\n",
    "file_path = r\"C:\\Users\\HP\\OneDrive\\Desktop\\Music-Popularity-Prediction-Pipeline-Summative\\data\\train\\top_songs.csv\"\n",
    "data = pd.read_csv(file_path, encoding='ISO-8859-1')\n",
    "\n",
    "# Preprocessing the dataset\n",
    "# Cleaning the numeric columns that are stored as strings\n",
    "numeric_cols = ['Spotify Streams', 'Spotify Playlist Count', 'Spotify Playlist Reach',\n",
    "                'YouTube Views', 'YouTube Likes', 'TikTok Posts', 'TikTok Likes', 'TikTok Views',\n",
    "                'YouTube Playlist Reach', 'AirPlay Spins', 'SiriusXM Spins',\n",
    "                'Deezer Playlist Reach', 'Pandora Streams', 'Pandora Track Stations',\n",
    "                'Soundcloud Streams', 'Shazam Counts']\n",
    "\n",
    "for col in numeric_cols:\n",
    "    data[col] = data[col].str.replace(',', '').astype(float)\n",
    "\n",
    "# Dropping \"TIDAL Popularity\" column because it is empty in the set\n",
    "data.drop(columns=['TIDAL Popularity'], inplace=True, errors='ignore')\n",
    "\n",
    "# Fill missing values\n",
    "data.fillna(data.mean(numeric_only=True), inplace=True)\n",
    "\n",
    "# Fill missing 'Artist' values with 'Unknown'\n",
    "data['Artist'].fillna('Unknown', inplace=True)\n",
    "\n",
    "# Creating a binary target column 'High_Potential' based on 'Track Score'\n",
    "track_score_median = data['Track Score'].median()\n",
    "data['High_Potential'] = (data['Track Score'] > track_score_median).astype(int)\n",
    "\n",
    "# Separate features (X) and target (y)\n",
    "X = data.drop(columns=['High_Potential', 'Track', 'Album Name', 'Artist', 'Release Date', 'ISRC', 'All Time Rank', 'Track Score'])\n",
    "y = data['High_Potential']\n",
    "\n",
    "# Categorical features encoded here\n",
    "categorical_columns = X.select_dtypes(include=['object']).columns\n",
    "X = pd.get_dummies(X, columns=categorical_columns, drop_first=True)\n",
    "\n",
    "# Split the dataset into training and test sets\n",
    "X_train, X_test, y_train, y_test = train_test_split(X, y, test_size=0.2, random_state=42)\n",
    "\n",
    "# Training the Random Forest model\n",
    "model = RandomForestClassifier(n_estimators=100, random_state=42)\n",
    "model.fit(X_train, y_train)\n",
    "\n",
    "# Here i saved the model as pickle\n",
    "with open('music_popularity_model.pkl', 'wb') as model_file:\n",
    "    pickle.dump(model, model_file)\n",
    "\n",
    "# Model now evaluated\n",
    "y_pred = model.predict(X_test)\n",
    "accuracy = accuracy_score(y_test, y_pred)\n",
    "print(\"Model Accuracy:\", accuracy)\n",
    "print(\"\\nClassification Report:\\n\", classification_report(y_test, y_pred))\n",
    "print(\"\\nConfusion Matrix:\\n\", confusion_matrix(y_test, y_pred))\n",
    "\n",
    "print(\"\\nModel training complete and saved as 'music_popularity_model.pkl'.\")\n"
   ]
  }
 ],
 "metadata": {
  "kernelspec": {
   "display_name": "Python 3",
   "language": "python",
   "name": "python3"
  },
  "language_info": {
   "codemirror_mode": {
    "name": "ipython",
    "version": 3
   },
   "file_extension": ".py",
   "mimetype": "text/x-python",
   "name": "python",
   "nbconvert_exporter": "python",
   "pygments_lexer": "ipython3",
   "version": "3.12.4"
  }
 },
 "nbformat": 4,
 "nbformat_minor": 2
}
